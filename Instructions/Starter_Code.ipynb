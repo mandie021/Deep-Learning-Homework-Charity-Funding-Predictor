{
 "cells": [
  {
   "cell_type": "markdown",
   "metadata": {
    "id": "Lt1GWtJq7Imp"
   },
   "source": [
    "## Preprocessing"
   ]
  },
  {
   "cell_type": "code",
   "execution_count": 1,
   "metadata": {
    "executionInfo": {
     "elapsed": 4598,
     "status": "ok",
     "timestamp": 1645468442684,
     "user": {
      "displayName": "Amanda Jacobson",
      "photoUrl": "https://lh3.googleusercontent.com/a/default-user=s64",
      "userId": "04912117051372836896"
     },
     "user_tz": 300
    },
    "id": "qYAvHvSy7Ims"
   },
   "outputs": [],
   "source": [
    "# Import our dependencies\n",
    "from sklearn.model_selection import train_test_split\n",
    "from sklearn.preprocessing import StandardScaler\n",
    "import pandas as pd\n",
    "import tensorflow as tf\n",
    "import sklearn as skl\n",
    "from keras.callbacks import ModelCheckpoint\n",
    "from keras.models import Sequential\n",
    "#  Import and read the charity_data.csv.\n",
    "import pandas as pd \n",
    "#from google.colab import drive\n"
   ]
  },
  {
   "cell_type": "code",
   "execution_count": 2,
   "metadata": {
    "colab": {
     "base_uri": "https://localhost:8080/",
     "height": 302
    },
    "executionInfo": {
     "elapsed": 150,
     "status": "ok",
     "timestamp": 1645468442825,
     "user": {
      "displayName": "Amanda Jacobson",
      "photoUrl": "https://lh3.googleusercontent.com/a/default-user=s64",
      "userId": "04912117051372836896"
     },
     "user_tz": 300
    },
    "id": "M30Hg2jp8TJE",
    "outputId": "d6ae3fe3-51b0-4d61-c0ba-eb41dffbf562"
   },
   "outputs": [
    {
     "data": {
      "text/html": [
       "<div>\n",
       "<style scoped>\n",
       "    .dataframe tbody tr th:only-of-type {\n",
       "        vertical-align: middle;\n",
       "    }\n",
       "\n",
       "    .dataframe tbody tr th {\n",
       "        vertical-align: top;\n",
       "    }\n",
       "\n",
       "    .dataframe thead th {\n",
       "        text-align: right;\n",
       "    }\n",
       "</style>\n",
       "<table border=\"1\" class=\"dataframe\">\n",
       "  <thead>\n",
       "    <tr style=\"text-align: right;\">\n",
       "      <th></th>\n",
       "      <th>EIN</th>\n",
       "      <th>NAME</th>\n",
       "      <th>APPLICATION_TYPE</th>\n",
       "      <th>AFFILIATION</th>\n",
       "      <th>CLASSIFICATION</th>\n",
       "      <th>USE_CASE</th>\n",
       "      <th>ORGANIZATION</th>\n",
       "      <th>STATUS</th>\n",
       "      <th>INCOME_AMT</th>\n",
       "      <th>SPECIAL_CONSIDERATIONS</th>\n",
       "      <th>ASK_AMT</th>\n",
       "      <th>IS_SUCCESSFUL</th>\n",
       "    </tr>\n",
       "  </thead>\n",
       "  <tbody>\n",
       "    <tr>\n",
       "      <th>0</th>\n",
       "      <td>10520599</td>\n",
       "      <td>BLUE KNIGHTS MOTORCYCLE CLUB</td>\n",
       "      <td>T10</td>\n",
       "      <td>Independent</td>\n",
       "      <td>C1000</td>\n",
       "      <td>ProductDev</td>\n",
       "      <td>Association</td>\n",
       "      <td>1</td>\n",
       "      <td>0</td>\n",
       "      <td>N</td>\n",
       "      <td>5000</td>\n",
       "      <td>1</td>\n",
       "    </tr>\n",
       "    <tr>\n",
       "      <th>1</th>\n",
       "      <td>10531628</td>\n",
       "      <td>AMERICAN CHESAPEAKE CLUB CHARITABLE TR</td>\n",
       "      <td>T3</td>\n",
       "      <td>Independent</td>\n",
       "      <td>C2000</td>\n",
       "      <td>Preservation</td>\n",
       "      <td>Co-operative</td>\n",
       "      <td>1</td>\n",
       "      <td>1-9999</td>\n",
       "      <td>N</td>\n",
       "      <td>108590</td>\n",
       "      <td>1</td>\n",
       "    </tr>\n",
       "    <tr>\n",
       "      <th>2</th>\n",
       "      <td>10547893</td>\n",
       "      <td>ST CLOUD PROFESSIONAL FIREFIGHTERS</td>\n",
       "      <td>T5</td>\n",
       "      <td>CompanySponsored</td>\n",
       "      <td>C3000</td>\n",
       "      <td>ProductDev</td>\n",
       "      <td>Association</td>\n",
       "      <td>1</td>\n",
       "      <td>0</td>\n",
       "      <td>N</td>\n",
       "      <td>5000</td>\n",
       "      <td>0</td>\n",
       "    </tr>\n",
       "    <tr>\n",
       "      <th>3</th>\n",
       "      <td>10553066</td>\n",
       "      <td>SOUTHSIDE ATHLETIC ASSOCIATION</td>\n",
       "      <td>T3</td>\n",
       "      <td>CompanySponsored</td>\n",
       "      <td>C2000</td>\n",
       "      <td>Preservation</td>\n",
       "      <td>Trust</td>\n",
       "      <td>1</td>\n",
       "      <td>10000-24999</td>\n",
       "      <td>N</td>\n",
       "      <td>6692</td>\n",
       "      <td>1</td>\n",
       "    </tr>\n",
       "    <tr>\n",
       "      <th>4</th>\n",
       "      <td>10556103</td>\n",
       "      <td>GENETIC RESEARCH INSTITUTE OF THE DESERT</td>\n",
       "      <td>T3</td>\n",
       "      <td>Independent</td>\n",
       "      <td>C1000</td>\n",
       "      <td>Heathcare</td>\n",
       "      <td>Trust</td>\n",
       "      <td>1</td>\n",
       "      <td>100000-499999</td>\n",
       "      <td>N</td>\n",
       "      <td>142590</td>\n",
       "      <td>1</td>\n",
       "    </tr>\n",
       "  </tbody>\n",
       "</table>\n",
       "</div>"
      ],
      "text/plain": [
       "        EIN                                      NAME APPLICATION_TYPE  \\\n",
       "0  10520599              BLUE KNIGHTS MOTORCYCLE CLUB              T10   \n",
       "1  10531628    AMERICAN CHESAPEAKE CLUB CHARITABLE TR               T3   \n",
       "2  10547893        ST CLOUD PROFESSIONAL FIREFIGHTERS               T5   \n",
       "3  10553066            SOUTHSIDE ATHLETIC ASSOCIATION               T3   \n",
       "4  10556103  GENETIC RESEARCH INSTITUTE OF THE DESERT               T3   \n",
       "\n",
       "        AFFILIATION CLASSIFICATION      USE_CASE  ORGANIZATION  STATUS  \\\n",
       "0       Independent          C1000    ProductDev   Association       1   \n",
       "1       Independent          C2000  Preservation  Co-operative       1   \n",
       "2  CompanySponsored          C3000    ProductDev   Association       1   \n",
       "3  CompanySponsored          C2000  Preservation         Trust       1   \n",
       "4       Independent          C1000     Heathcare         Trust       1   \n",
       "\n",
       "      INCOME_AMT SPECIAL_CONSIDERATIONS  ASK_AMT  IS_SUCCESSFUL  \n",
       "0              0                      N     5000              1  \n",
       "1         1-9999                      N   108590              1  \n",
       "2              0                      N     5000              0  \n",
       "3    10000-24999                      N     6692              1  \n",
       "4  100000-499999                      N   142590              1  "
      ]
     },
     "execution_count": 2,
     "metadata": {},
     "output_type": "execute_result"
    }
   ],
   "source": [
    "application_df = pd.read_csv(\"../Resources/charity_data.csv\")\n",
    "application_df.head()"
   ]
  },
  {
   "cell_type": "code",
   "execution_count": 3,
   "metadata": {
    "colab": {
     "base_uri": "https://localhost:8080/",
     "height": 424
    },
    "executionInfo": {
     "elapsed": 116,
     "status": "ok",
     "timestamp": 1645468442938,
     "user": {
      "displayName": "Amanda Jacobson",
      "photoUrl": "https://lh3.googleusercontent.com/a/default-user=s64",
      "userId": "04912117051372836896"
     },
     "user_tz": 300
    },
    "id": "_RTOlUMH7Imu",
    "outputId": "ad3b6a37-c426-4473-d995-3b74b674bc26"
   },
   "outputs": [
    {
     "data": {
      "text/html": [
       "<div>\n",
       "<style scoped>\n",
       "    .dataframe tbody tr th:only-of-type {\n",
       "        vertical-align: middle;\n",
       "    }\n",
       "\n",
       "    .dataframe tbody tr th {\n",
       "        vertical-align: top;\n",
       "    }\n",
       "\n",
       "    .dataframe thead th {\n",
       "        text-align: right;\n",
       "    }\n",
       "</style>\n",
       "<table border=\"1\" class=\"dataframe\">\n",
       "  <thead>\n",
       "    <tr style=\"text-align: right;\">\n",
       "      <th></th>\n",
       "      <th>APPLICATION_TYPE</th>\n",
       "      <th>AFFILIATION</th>\n",
       "      <th>CLASSIFICATION</th>\n",
       "      <th>USE_CASE</th>\n",
       "      <th>ORGANIZATION</th>\n",
       "      <th>STATUS</th>\n",
       "      <th>INCOME_AMT</th>\n",
       "      <th>SPECIAL_CONSIDERATIONS</th>\n",
       "      <th>ASK_AMT</th>\n",
       "      <th>IS_SUCCESSFUL</th>\n",
       "    </tr>\n",
       "  </thead>\n",
       "  <tbody>\n",
       "    <tr>\n",
       "      <th>0</th>\n",
       "      <td>T10</td>\n",
       "      <td>Independent</td>\n",
       "      <td>C1000</td>\n",
       "      <td>ProductDev</td>\n",
       "      <td>Association</td>\n",
       "      <td>1</td>\n",
       "      <td>0</td>\n",
       "      <td>N</td>\n",
       "      <td>5000</td>\n",
       "      <td>1</td>\n",
       "    </tr>\n",
       "    <tr>\n",
       "      <th>1</th>\n",
       "      <td>T3</td>\n",
       "      <td>Independent</td>\n",
       "      <td>C2000</td>\n",
       "      <td>Preservation</td>\n",
       "      <td>Co-operative</td>\n",
       "      <td>1</td>\n",
       "      <td>1-9999</td>\n",
       "      <td>N</td>\n",
       "      <td>108590</td>\n",
       "      <td>1</td>\n",
       "    </tr>\n",
       "    <tr>\n",
       "      <th>2</th>\n",
       "      <td>T5</td>\n",
       "      <td>CompanySponsored</td>\n",
       "      <td>C3000</td>\n",
       "      <td>ProductDev</td>\n",
       "      <td>Association</td>\n",
       "      <td>1</td>\n",
       "      <td>0</td>\n",
       "      <td>N</td>\n",
       "      <td>5000</td>\n",
       "      <td>0</td>\n",
       "    </tr>\n",
       "    <tr>\n",
       "      <th>3</th>\n",
       "      <td>T3</td>\n",
       "      <td>CompanySponsored</td>\n",
       "      <td>C2000</td>\n",
       "      <td>Preservation</td>\n",
       "      <td>Trust</td>\n",
       "      <td>1</td>\n",
       "      <td>10000-24999</td>\n",
       "      <td>N</td>\n",
       "      <td>6692</td>\n",
       "      <td>1</td>\n",
       "    </tr>\n",
       "    <tr>\n",
       "      <th>4</th>\n",
       "      <td>T3</td>\n",
       "      <td>Independent</td>\n",
       "      <td>C1000</td>\n",
       "      <td>Heathcare</td>\n",
       "      <td>Trust</td>\n",
       "      <td>1</td>\n",
       "      <td>100000-499999</td>\n",
       "      <td>N</td>\n",
       "      <td>142590</td>\n",
       "      <td>1</td>\n",
       "    </tr>\n",
       "    <tr>\n",
       "      <th>...</th>\n",
       "      <td>...</td>\n",
       "      <td>...</td>\n",
       "      <td>...</td>\n",
       "      <td>...</td>\n",
       "      <td>...</td>\n",
       "      <td>...</td>\n",
       "      <td>...</td>\n",
       "      <td>...</td>\n",
       "      <td>...</td>\n",
       "      <td>...</td>\n",
       "    </tr>\n",
       "    <tr>\n",
       "      <th>34294</th>\n",
       "      <td>T4</td>\n",
       "      <td>Independent</td>\n",
       "      <td>C1000</td>\n",
       "      <td>ProductDev</td>\n",
       "      <td>Association</td>\n",
       "      <td>1</td>\n",
       "      <td>0</td>\n",
       "      <td>N</td>\n",
       "      <td>5000</td>\n",
       "      <td>0</td>\n",
       "    </tr>\n",
       "    <tr>\n",
       "      <th>34295</th>\n",
       "      <td>T4</td>\n",
       "      <td>CompanySponsored</td>\n",
       "      <td>C3000</td>\n",
       "      <td>ProductDev</td>\n",
       "      <td>Association</td>\n",
       "      <td>1</td>\n",
       "      <td>0</td>\n",
       "      <td>N</td>\n",
       "      <td>5000</td>\n",
       "      <td>0</td>\n",
       "    </tr>\n",
       "    <tr>\n",
       "      <th>34296</th>\n",
       "      <td>T3</td>\n",
       "      <td>CompanySponsored</td>\n",
       "      <td>C2000</td>\n",
       "      <td>Preservation</td>\n",
       "      <td>Association</td>\n",
       "      <td>1</td>\n",
       "      <td>0</td>\n",
       "      <td>N</td>\n",
       "      <td>5000</td>\n",
       "      <td>0</td>\n",
       "    </tr>\n",
       "    <tr>\n",
       "      <th>34297</th>\n",
       "      <td>T5</td>\n",
       "      <td>Independent</td>\n",
       "      <td>C3000</td>\n",
       "      <td>ProductDev</td>\n",
       "      <td>Association</td>\n",
       "      <td>1</td>\n",
       "      <td>0</td>\n",
       "      <td>N</td>\n",
       "      <td>5000</td>\n",
       "      <td>1</td>\n",
       "    </tr>\n",
       "    <tr>\n",
       "      <th>34298</th>\n",
       "      <td>T3</td>\n",
       "      <td>Independent</td>\n",
       "      <td>C1000</td>\n",
       "      <td>Preservation</td>\n",
       "      <td>Co-operative</td>\n",
       "      <td>1</td>\n",
       "      <td>1M-5M</td>\n",
       "      <td>N</td>\n",
       "      <td>36500179</td>\n",
       "      <td>0</td>\n",
       "    </tr>\n",
       "  </tbody>\n",
       "</table>\n",
       "<p>34299 rows × 10 columns</p>\n",
       "</div>"
      ],
      "text/plain": [
       "      APPLICATION_TYPE       AFFILIATION CLASSIFICATION      USE_CASE  \\\n",
       "0                  T10       Independent          C1000    ProductDev   \n",
       "1                   T3       Independent          C2000  Preservation   \n",
       "2                   T5  CompanySponsored          C3000    ProductDev   \n",
       "3                   T3  CompanySponsored          C2000  Preservation   \n",
       "4                   T3       Independent          C1000     Heathcare   \n",
       "...                ...               ...            ...           ...   \n",
       "34294               T4       Independent          C1000    ProductDev   \n",
       "34295               T4  CompanySponsored          C3000    ProductDev   \n",
       "34296               T3  CompanySponsored          C2000  Preservation   \n",
       "34297               T5       Independent          C3000    ProductDev   \n",
       "34298               T3       Independent          C1000  Preservation   \n",
       "\n",
       "       ORGANIZATION  STATUS     INCOME_AMT SPECIAL_CONSIDERATIONS   ASK_AMT  \\\n",
       "0       Association       1              0                      N      5000   \n",
       "1      Co-operative       1         1-9999                      N    108590   \n",
       "2       Association       1              0                      N      5000   \n",
       "3             Trust       1    10000-24999                      N      6692   \n",
       "4             Trust       1  100000-499999                      N    142590   \n",
       "...             ...     ...            ...                    ...       ...   \n",
       "34294   Association       1              0                      N      5000   \n",
       "34295   Association       1              0                      N      5000   \n",
       "34296   Association       1              0                      N      5000   \n",
       "34297   Association       1              0                      N      5000   \n",
       "34298  Co-operative       1          1M-5M                      N  36500179   \n",
       "\n",
       "       IS_SUCCESSFUL  \n",
       "0                  1  \n",
       "1                  1  \n",
       "2                  0  \n",
       "3                  1  \n",
       "4                  1  \n",
       "...              ...  \n",
       "34294              0  \n",
       "34295              0  \n",
       "34296              0  \n",
       "34297              1  \n",
       "34298              0  \n",
       "\n",
       "[34299 rows x 10 columns]"
      ]
     },
     "execution_count": 3,
     "metadata": {},
     "output_type": "execute_result"
    }
   ],
   "source": [
    "# Drop the non-beneficial ID columns, 'EIN' and 'NAME'.\n",
    "#  YOUR CODE GOES HERE\n",
    "application_columns = application_df.drop([\"EIN\", \"NAME\"], axis='columns')\n",
    "application_columns"
   ]
  },
  {
   "cell_type": "code",
   "execution_count": 4,
   "metadata": {
    "colab": {
     "base_uri": "https://localhost:8080/"
    },
    "executionInfo": {
     "elapsed": 178,
     "status": "ok",
     "timestamp": 1645468443112,
     "user": {
      "displayName": "Amanda Jacobson",
      "photoUrl": "https://lh3.googleusercontent.com/a/default-user=s64",
      "userId": "04912117051372836896"
     },
     "user_tz": 300
    },
    "id": "kFsdkKFC7Imu",
    "outputId": "7b9e868d-277b-4b50-8346-215e0ff2be21"
   },
   "outputs": [
    {
     "data": {
      "text/plain": [
       "APPLICATION_TYPE            17\n",
       "AFFILIATION                  6\n",
       "CLASSIFICATION              71\n",
       "USE_CASE                     5\n",
       "ORGANIZATION                 4\n",
       "STATUS                       2\n",
       "INCOME_AMT                   9\n",
       "SPECIAL_CONSIDERATIONS       2\n",
       "ASK_AMT                   8747\n",
       "IS_SUCCESSFUL                2\n",
       "dtype: int64"
      ]
     },
     "execution_count": 4,
     "metadata": {},
     "output_type": "execute_result"
    }
   ],
   "source": [
    "# Determine the number of unique values in each column.\n",
    "#  YOUR CODE GOES HERE\n",
    "application_columns.nunique()"
   ]
  },
  {
   "cell_type": "markdown",
   "metadata": {
    "id": "UFN86yQkN2zc"
   },
   "source": [
    "# New Section"
   ]
  },
  {
   "cell_type": "code",
   "execution_count": 5,
   "metadata": {
    "colab": {
     "base_uri": "https://localhost:8080/"
    },
    "executionInfo": {
     "elapsed": 5,
     "status": "ok",
     "timestamp": 1645468443112,
     "user": {
      "displayName": "Amanda Jacobson",
      "photoUrl": "https://lh3.googleusercontent.com/a/default-user=s64",
      "userId": "04912117051372836896"
     },
     "user_tz": 300
    },
    "id": "yzgKEDlX7Imu",
    "outputId": "f852f476-e9a4-4982-c0f8-d4ae9465244e"
   },
   "outputs": [
    {
     "data": {
      "text/plain": [
       "T3     27037\n",
       "T4      1542\n",
       "T6      1216\n",
       "T5      1173\n",
       "T19     1065\n",
       "T8       737\n",
       "T7       725\n",
       "T10      528\n",
       "T9       156\n",
       "T13       66\n",
       "T12       27\n",
       "T2        16\n",
       "T25        3\n",
       "T14        3\n",
       "T29        2\n",
       "T15        2\n",
       "T17        1\n",
       "Name: APPLICATION_TYPE, dtype: int64"
      ]
     },
     "execution_count": 5,
     "metadata": {},
     "output_type": "execute_result"
    }
   ],
   "source": [
    "# Look at APPLICATION_TYPE value counts for binning\n",
    "#  YOUR CODE GOES HERE\n",
    "application_columns['APPLICATION_TYPE'].value_counts()"
   ]
  },
  {
   "cell_type": "code",
   "execution_count": 6,
   "metadata": {
    "colab": {
     "base_uri": "https://localhost:8080/"
    },
    "executionInfo": {
     "elapsed": 5,
     "status": "ok",
     "timestamp": 1645468443113,
     "user": {
      "displayName": "Amanda Jacobson",
      "photoUrl": "https://lh3.googleusercontent.com/a/default-user=s64",
      "userId": "04912117051372836896"
     },
     "user_tz": 300
    },
    "id": "UzEe5mcmIoaS",
    "outputId": "08ffe8b0-bd16-4a29-8829-56b66d603b8c"
   },
   "outputs": [
    {
     "name": "stdout",
     "output_type": "stream",
     "text": [
      "T3     False\n",
      "T4     False\n",
      "T6     False\n",
      "T5     False\n",
      "T19    False\n",
      "T8     False\n",
      "T7     False\n",
      "T10    False\n",
      "T9      True\n",
      "T13     True\n",
      "T12     True\n",
      "T2      True\n",
      "T25     True\n",
      "T14     True\n",
      "T29     True\n",
      "T15     True\n",
      "T17     True\n",
      "Name: APPLICATION_TYPE, dtype: bool\n"
     ]
    }
   ],
   "source": [
    "#application_types_to_replace = sum(application_columns['APPLICATION_TYPE'] < 200)\n",
    "print(application_columns['APPLICATION_TYPE'].value_counts() < 200)"
   ]
  },
  {
   "cell_type": "code",
   "execution_count": 7,
   "metadata": {
    "colab": {
     "base_uri": "https://localhost:8080/"
    },
    "executionInfo": {
     "elapsed": 126,
     "status": "ok",
     "timestamp": 1645468443236,
     "user": {
      "displayName": "Amanda Jacobson",
      "photoUrl": "https://lh3.googleusercontent.com/a/default-user=s64",
      "userId": "04912117051372836896"
     },
     "user_tz": 300
    },
    "id": "GdT1N50r7Imv",
    "outputId": "604f16be-4e21-45c4-bdfd-634bfd45ebd7"
   },
   "outputs": [
    {
     "data": {
      "text/plain": [
       "T3     27037\n",
       "T4      1542\n",
       "T6      1216\n",
       "T5      1173\n",
       "T19     1065\n",
       "T8       737\n",
       "T7       725\n",
       "T10      528\n",
       "T9       156\n",
       "T13       66\n",
       "T12       27\n",
       "T2        16\n",
       "T25        3\n",
       "T14        3\n",
       "T29        2\n",
       "T15        2\n",
       "T17        1\n",
       "Name: APPLICATION_TYPE, dtype: int64"
      ]
     },
     "execution_count": 7,
     "metadata": {},
     "output_type": "execute_result"
    }
   ],
   "source": [
    "# Choose a cutoff value and create a list of application types to be replaced\n",
    "# use the variable name `application_types_to_replace`\n",
    "#  YOUR CODE GOES HERE\n",
    "application_types_to_replace = application_columns['APPLICATION_TYPE'].value_counts().loc[lambda x : x<200] \n",
    "# Replace in dataframe\n",
    "for app in application_types_to_replace:\n",
    "    application_columns['APPLICATION_TYPE'] = application_columns['APPLICATION_TYPE'].replace(app,\"Other\")\n",
    "\n",
    "# Check to make sure binning was successful\n",
    "application_columns['APPLICATION_TYPE'].value_counts()"
   ]
  },
  {
   "cell_type": "code",
   "execution_count": 8,
   "metadata": {
    "colab": {
     "base_uri": "https://localhost:8080/"
    },
    "executionInfo": {
     "elapsed": 6,
     "status": "ok",
     "timestamp": 1645468443237,
     "user": {
      "displayName": "Amanda Jacobson",
      "photoUrl": "https://lh3.googleusercontent.com/a/default-user=s64",
      "userId": "04912117051372836896"
     },
     "user_tz": 300
    },
    "id": "TX-beOuZ7Imv",
    "outputId": "c66a978a-9446-43c3-cb9c-a0de5de54e53"
   },
   "outputs": [
    {
     "data": {
      "text/plain": [
       "C1000    17326\n",
       "C2000     6074\n",
       "C1200     4837\n",
       "C3000     1918\n",
       "C2100     1883\n",
       "         ...  \n",
       "C4120        1\n",
       "C8210        1\n",
       "C2561        1\n",
       "C4500        1\n",
       "C2150        1\n",
       "Name: CLASSIFICATION, Length: 71, dtype: int64"
      ]
     },
     "execution_count": 8,
     "metadata": {},
     "output_type": "execute_result"
    }
   ],
   "source": [
    "# Look at CLASSIFICATION value counts for binning\n",
    "#  YOUR CODE GOES HERE\n",
    "application_columns['CLASSIFICATION'].value_counts()"
   ]
  },
  {
   "cell_type": "code",
   "execution_count": 9,
   "metadata": {
    "colab": {
     "base_uri": "https://localhost:8080/"
    },
    "executionInfo": {
     "elapsed": 4,
     "status": "ok",
     "timestamp": 1645468443237,
     "user": {
      "displayName": "Amanda Jacobson",
      "photoUrl": "https://lh3.googleusercontent.com/a/default-user=s64",
      "userId": "04912117051372836896"
     },
     "user_tz": 300
    },
    "id": "gFb0rzfV7Imv",
    "outputId": "4b90c03d-0581-4f2d-eeb6-8c45c698e7a8"
   },
   "outputs": [
    {
     "data": {
      "text/plain": [
       "C1000    17326\n",
       "C2000     6074\n",
       "C1200     4837\n",
       "C3000     1918\n",
       "C2100     1883\n",
       "C7000      777\n",
       "C1700      287\n",
       "C4000      194\n",
       "C5000      116\n",
       "C1270      114\n",
       "C2700      104\n",
       "C2800       95\n",
       "C7100       75\n",
       "C1300       58\n",
       "C1280       50\n",
       "C1230       36\n",
       "C1400       34\n",
       "C7200       32\n",
       "C2300       32\n",
       "C1240       30\n",
       "C8000       20\n",
       "C7120       18\n",
       "C1500       16\n",
       "C1800       15\n",
       "C6000       15\n",
       "C1250       14\n",
       "C8200       11\n",
       "C1238       10\n",
       "C1278       10\n",
       "C1235        9\n",
       "C1237        9\n",
       "C7210        7\n",
       "C2400        6\n",
       "C1720        6\n",
       "C4100        6\n",
       "C1257        5\n",
       "C1600        5\n",
       "C1260        3\n",
       "C2710        3\n",
       "C0           3\n",
       "C3200        2\n",
       "C1234        2\n",
       "C1246        2\n",
       "C1267        2\n",
       "C1256        2\n",
       "Name: CLASSIFICATION, dtype: int64"
      ]
     },
     "execution_count": 9,
     "metadata": {},
     "output_type": "execute_result"
    }
   ],
   "source": [
    "# You may find it helpful to look at CLASSIFICATION value counts >1\n",
    "#  YOUR CODE GOES HERE\n",
    "application_columns['CLASSIFICATION'].value_counts().loc[lambda x : x>1] "
   ]
  },
  {
   "cell_type": "code",
   "execution_count": 10,
   "metadata": {
    "colab": {
     "base_uri": "https://localhost:8080/"
    },
    "executionInfo": {
     "elapsed": 373,
     "status": "ok",
     "timestamp": 1645468443608,
     "user": {
      "displayName": "Amanda Jacobson",
      "photoUrl": "https://lh3.googleusercontent.com/a/default-user=s64",
      "userId": "04912117051372836896"
     },
     "user_tz": 300
    },
    "id": "Sq39Arrt7Imw",
    "outputId": "30b1550f-c993-4ab3-9642-3e8be7a76427"
   },
   "outputs": [
    {
     "data": {
      "text/plain": [
       "C1000    17326\n",
       "C2000     6074\n",
       "C1200     4837\n",
       "C3000     1918\n",
       "C2100     1883\n",
       "         ...  \n",
       "C4120        1\n",
       "C8210        1\n",
       "C2561        1\n",
       "C4500        1\n",
       "C2150        1\n",
       "Name: CLASSIFICATION, Length: 71, dtype: int64"
      ]
     },
     "execution_count": 10,
     "metadata": {},
     "output_type": "execute_result"
    }
   ],
   "source": [
    "# Choose a cutoff value and create a list of classifications to be replaced\n",
    "# use the variable name `classifications_to_replace`\n",
    "#  YOUR CODE GOES HERE\n",
    "classifications_to_replace = application_columns['CLASSIFICATION'].value_counts().loc[lambda x : x<1880]\n",
    "# Replace in dataframe\n",
    "for cls in classifications_to_replace:\n",
    "    application_columns['CLASSIFICATION'] = application_columns['CLASSIFICATION'].replace(cls,\"Other\")\n",
    "    \n",
    "# Check to make sure binning was successful\n",
    "application_columns['CLASSIFICATION'].value_counts()"
   ]
  },
  {
   "cell_type": "code",
   "execution_count": 11,
   "metadata": {
    "colab": {
     "base_uri": "https://localhost:8080/",
     "height": 424
    },
    "executionInfo": {
     "elapsed": 138,
     "status": "ok",
     "timestamp": 1645468443743,
     "user": {
      "displayName": "Amanda Jacobson",
      "photoUrl": "https://lh3.googleusercontent.com/a/default-user=s64",
      "userId": "04912117051372836896"
     },
     "user_tz": 300
    },
    "id": "CNvoPAS9OOlV",
    "outputId": "155e3c85-3fb5-4556-bbd0-95663e3ca829"
   },
   "outputs": [
    {
     "data": {
      "text/html": [
       "<div>\n",
       "<style scoped>\n",
       "    .dataframe tbody tr th:only-of-type {\n",
       "        vertical-align: middle;\n",
       "    }\n",
       "\n",
       "    .dataframe tbody tr th {\n",
       "        vertical-align: top;\n",
       "    }\n",
       "\n",
       "    .dataframe thead th {\n",
       "        text-align: right;\n",
       "    }\n",
       "</style>\n",
       "<table border=\"1\" class=\"dataframe\">\n",
       "  <thead>\n",
       "    <tr style=\"text-align: right;\">\n",
       "      <th></th>\n",
       "      <th>APPLICATION_TYPE</th>\n",
       "      <th>AFFILIATION</th>\n",
       "      <th>CLASSIFICATION</th>\n",
       "      <th>USE_CASE</th>\n",
       "      <th>ORGANIZATION</th>\n",
       "      <th>STATUS</th>\n",
       "      <th>INCOME_AMT</th>\n",
       "      <th>SPECIAL_CONSIDERATIONS</th>\n",
       "      <th>ASK_AMT</th>\n",
       "    </tr>\n",
       "  </thead>\n",
       "  <tbody>\n",
       "    <tr>\n",
       "      <th>0</th>\n",
       "      <td>T10</td>\n",
       "      <td>Independent</td>\n",
       "      <td>C1000</td>\n",
       "      <td>ProductDev</td>\n",
       "      <td>Association</td>\n",
       "      <td>1</td>\n",
       "      <td>0</td>\n",
       "      <td>N</td>\n",
       "      <td>5000</td>\n",
       "    </tr>\n",
       "    <tr>\n",
       "      <th>1</th>\n",
       "      <td>T3</td>\n",
       "      <td>Independent</td>\n",
       "      <td>C2000</td>\n",
       "      <td>Preservation</td>\n",
       "      <td>Co-operative</td>\n",
       "      <td>1</td>\n",
       "      <td>1-9999</td>\n",
       "      <td>N</td>\n",
       "      <td>108590</td>\n",
       "    </tr>\n",
       "    <tr>\n",
       "      <th>2</th>\n",
       "      <td>T5</td>\n",
       "      <td>CompanySponsored</td>\n",
       "      <td>C3000</td>\n",
       "      <td>ProductDev</td>\n",
       "      <td>Association</td>\n",
       "      <td>1</td>\n",
       "      <td>0</td>\n",
       "      <td>N</td>\n",
       "      <td>5000</td>\n",
       "    </tr>\n",
       "    <tr>\n",
       "      <th>3</th>\n",
       "      <td>T3</td>\n",
       "      <td>CompanySponsored</td>\n",
       "      <td>C2000</td>\n",
       "      <td>Preservation</td>\n",
       "      <td>Trust</td>\n",
       "      <td>1</td>\n",
       "      <td>10000-24999</td>\n",
       "      <td>N</td>\n",
       "      <td>6692</td>\n",
       "    </tr>\n",
       "    <tr>\n",
       "      <th>4</th>\n",
       "      <td>T3</td>\n",
       "      <td>Independent</td>\n",
       "      <td>C1000</td>\n",
       "      <td>Heathcare</td>\n",
       "      <td>Trust</td>\n",
       "      <td>1</td>\n",
       "      <td>100000-499999</td>\n",
       "      <td>N</td>\n",
       "      <td>142590</td>\n",
       "    </tr>\n",
       "    <tr>\n",
       "      <th>...</th>\n",
       "      <td>...</td>\n",
       "      <td>...</td>\n",
       "      <td>...</td>\n",
       "      <td>...</td>\n",
       "      <td>...</td>\n",
       "      <td>...</td>\n",
       "      <td>...</td>\n",
       "      <td>...</td>\n",
       "      <td>...</td>\n",
       "    </tr>\n",
       "    <tr>\n",
       "      <th>34294</th>\n",
       "      <td>T4</td>\n",
       "      <td>Independent</td>\n",
       "      <td>C1000</td>\n",
       "      <td>ProductDev</td>\n",
       "      <td>Association</td>\n",
       "      <td>1</td>\n",
       "      <td>0</td>\n",
       "      <td>N</td>\n",
       "      <td>5000</td>\n",
       "    </tr>\n",
       "    <tr>\n",
       "      <th>34295</th>\n",
       "      <td>T4</td>\n",
       "      <td>CompanySponsored</td>\n",
       "      <td>C3000</td>\n",
       "      <td>ProductDev</td>\n",
       "      <td>Association</td>\n",
       "      <td>1</td>\n",
       "      <td>0</td>\n",
       "      <td>N</td>\n",
       "      <td>5000</td>\n",
       "    </tr>\n",
       "    <tr>\n",
       "      <th>34296</th>\n",
       "      <td>T3</td>\n",
       "      <td>CompanySponsored</td>\n",
       "      <td>C2000</td>\n",
       "      <td>Preservation</td>\n",
       "      <td>Association</td>\n",
       "      <td>1</td>\n",
       "      <td>0</td>\n",
       "      <td>N</td>\n",
       "      <td>5000</td>\n",
       "    </tr>\n",
       "    <tr>\n",
       "      <th>34297</th>\n",
       "      <td>T5</td>\n",
       "      <td>Independent</td>\n",
       "      <td>C3000</td>\n",
       "      <td>ProductDev</td>\n",
       "      <td>Association</td>\n",
       "      <td>1</td>\n",
       "      <td>0</td>\n",
       "      <td>N</td>\n",
       "      <td>5000</td>\n",
       "    </tr>\n",
       "    <tr>\n",
       "      <th>34298</th>\n",
       "      <td>T3</td>\n",
       "      <td>Independent</td>\n",
       "      <td>C1000</td>\n",
       "      <td>Preservation</td>\n",
       "      <td>Co-operative</td>\n",
       "      <td>1</td>\n",
       "      <td>1M-5M</td>\n",
       "      <td>N</td>\n",
       "      <td>36500179</td>\n",
       "    </tr>\n",
       "  </tbody>\n",
       "</table>\n",
       "<p>34299 rows × 9 columns</p>\n",
       "</div>"
      ],
      "text/plain": [
       "      APPLICATION_TYPE       AFFILIATION CLASSIFICATION      USE_CASE  \\\n",
       "0                  T10       Independent          C1000    ProductDev   \n",
       "1                   T3       Independent          C2000  Preservation   \n",
       "2                   T5  CompanySponsored          C3000    ProductDev   \n",
       "3                   T3  CompanySponsored          C2000  Preservation   \n",
       "4                   T3       Independent          C1000     Heathcare   \n",
       "...                ...               ...            ...           ...   \n",
       "34294               T4       Independent          C1000    ProductDev   \n",
       "34295               T4  CompanySponsored          C3000    ProductDev   \n",
       "34296               T3  CompanySponsored          C2000  Preservation   \n",
       "34297               T5       Independent          C3000    ProductDev   \n",
       "34298               T3       Independent          C1000  Preservation   \n",
       "\n",
       "       ORGANIZATION  STATUS     INCOME_AMT SPECIAL_CONSIDERATIONS   ASK_AMT  \n",
       "0       Association       1              0                      N      5000  \n",
       "1      Co-operative       1         1-9999                      N    108590  \n",
       "2       Association       1              0                      N      5000  \n",
       "3             Trust       1    10000-24999                      N      6692  \n",
       "4             Trust       1  100000-499999                      N    142590  \n",
       "...             ...     ...            ...                    ...       ...  \n",
       "34294   Association       1              0                      N      5000  \n",
       "34295   Association       1              0                      N      5000  \n",
       "34296   Association       1              0                      N      5000  \n",
       "34297   Association       1              0                      N      5000  \n",
       "34298  Co-operative       1          1M-5M                      N  36500179  \n",
       "\n",
       "[34299 rows x 9 columns]"
      ]
     },
     "execution_count": 11,
     "metadata": {},
     "output_type": "execute_result"
    }
   ],
   "source": [
    "application_dropped = application_columns.drop('IS_SUCCESSFUL', axis=1)\n",
    "application_dropped"
   ]
  },
  {
   "cell_type": "code",
   "execution_count": 12,
   "metadata": {
    "colab": {
     "base_uri": "https://localhost:8080/",
     "height": 505
    },
    "executionInfo": {
     "elapsed": 527,
     "status": "ok",
     "timestamp": 1645468444268,
     "user": {
      "displayName": "Amanda Jacobson",
      "photoUrl": "https://lh3.googleusercontent.com/a/default-user=s64",
      "userId": "04912117051372836896"
     },
     "user_tz": 300
    },
    "id": "NMOyZlcp7Imw",
    "outputId": "ff85b900-b6af-411e-9ba9-1209f17d13cb"
   },
   "outputs": [
    {
     "data": {
      "text/html": [
       "<div>\n",
       "<style scoped>\n",
       "    .dataframe tbody tr th:only-of-type {\n",
       "        vertical-align: middle;\n",
       "    }\n",
       "\n",
       "    .dataframe tbody tr th {\n",
       "        vertical-align: top;\n",
       "    }\n",
       "\n",
       "    .dataframe thead th {\n",
       "        text-align: right;\n",
       "    }\n",
       "</style>\n",
       "<table border=\"1\" class=\"dataframe\">\n",
       "  <thead>\n",
       "    <tr style=\"text-align: right;\">\n",
       "      <th></th>\n",
       "      <th>STATUS</th>\n",
       "      <th>ASK_AMT</th>\n",
       "      <th>APPLICATION_TYPE_T10</th>\n",
       "      <th>APPLICATION_TYPE_T12</th>\n",
       "      <th>APPLICATION_TYPE_T13</th>\n",
       "      <th>APPLICATION_TYPE_T14</th>\n",
       "      <th>APPLICATION_TYPE_T15</th>\n",
       "      <th>APPLICATION_TYPE_T17</th>\n",
       "      <th>APPLICATION_TYPE_T19</th>\n",
       "      <th>APPLICATION_TYPE_T2</th>\n",
       "      <th>...</th>\n",
       "      <th>INCOME_AMT_1-9999</th>\n",
       "      <th>INCOME_AMT_10000-24999</th>\n",
       "      <th>INCOME_AMT_100000-499999</th>\n",
       "      <th>INCOME_AMT_10M-50M</th>\n",
       "      <th>INCOME_AMT_1M-5M</th>\n",
       "      <th>INCOME_AMT_25000-99999</th>\n",
       "      <th>INCOME_AMT_50M+</th>\n",
       "      <th>INCOME_AMT_5M-10M</th>\n",
       "      <th>SPECIAL_CONSIDERATIONS_N</th>\n",
       "      <th>SPECIAL_CONSIDERATIONS_Y</th>\n",
       "    </tr>\n",
       "  </thead>\n",
       "  <tbody>\n",
       "    <tr>\n",
       "      <th>0</th>\n",
       "      <td>1</td>\n",
       "      <td>5000</td>\n",
       "      <td>1</td>\n",
       "      <td>0</td>\n",
       "      <td>0</td>\n",
       "      <td>0</td>\n",
       "      <td>0</td>\n",
       "      <td>0</td>\n",
       "      <td>0</td>\n",
       "      <td>0</td>\n",
       "      <td>...</td>\n",
       "      <td>0</td>\n",
       "      <td>0</td>\n",
       "      <td>0</td>\n",
       "      <td>0</td>\n",
       "      <td>0</td>\n",
       "      <td>0</td>\n",
       "      <td>0</td>\n",
       "      <td>0</td>\n",
       "      <td>1</td>\n",
       "      <td>0</td>\n",
       "    </tr>\n",
       "    <tr>\n",
       "      <th>1</th>\n",
       "      <td>1</td>\n",
       "      <td>108590</td>\n",
       "      <td>0</td>\n",
       "      <td>0</td>\n",
       "      <td>0</td>\n",
       "      <td>0</td>\n",
       "      <td>0</td>\n",
       "      <td>0</td>\n",
       "      <td>0</td>\n",
       "      <td>0</td>\n",
       "      <td>...</td>\n",
       "      <td>1</td>\n",
       "      <td>0</td>\n",
       "      <td>0</td>\n",
       "      <td>0</td>\n",
       "      <td>0</td>\n",
       "      <td>0</td>\n",
       "      <td>0</td>\n",
       "      <td>0</td>\n",
       "      <td>1</td>\n",
       "      <td>0</td>\n",
       "    </tr>\n",
       "    <tr>\n",
       "      <th>2</th>\n",
       "      <td>1</td>\n",
       "      <td>5000</td>\n",
       "      <td>0</td>\n",
       "      <td>0</td>\n",
       "      <td>0</td>\n",
       "      <td>0</td>\n",
       "      <td>0</td>\n",
       "      <td>0</td>\n",
       "      <td>0</td>\n",
       "      <td>0</td>\n",
       "      <td>...</td>\n",
       "      <td>0</td>\n",
       "      <td>0</td>\n",
       "      <td>0</td>\n",
       "      <td>0</td>\n",
       "      <td>0</td>\n",
       "      <td>0</td>\n",
       "      <td>0</td>\n",
       "      <td>0</td>\n",
       "      <td>1</td>\n",
       "      <td>0</td>\n",
       "    </tr>\n",
       "    <tr>\n",
       "      <th>3</th>\n",
       "      <td>1</td>\n",
       "      <td>6692</td>\n",
       "      <td>0</td>\n",
       "      <td>0</td>\n",
       "      <td>0</td>\n",
       "      <td>0</td>\n",
       "      <td>0</td>\n",
       "      <td>0</td>\n",
       "      <td>0</td>\n",
       "      <td>0</td>\n",
       "      <td>...</td>\n",
       "      <td>0</td>\n",
       "      <td>1</td>\n",
       "      <td>0</td>\n",
       "      <td>0</td>\n",
       "      <td>0</td>\n",
       "      <td>0</td>\n",
       "      <td>0</td>\n",
       "      <td>0</td>\n",
       "      <td>1</td>\n",
       "      <td>0</td>\n",
       "    </tr>\n",
       "    <tr>\n",
       "      <th>4</th>\n",
       "      <td>1</td>\n",
       "      <td>142590</td>\n",
       "      <td>0</td>\n",
       "      <td>0</td>\n",
       "      <td>0</td>\n",
       "      <td>0</td>\n",
       "      <td>0</td>\n",
       "      <td>0</td>\n",
       "      <td>0</td>\n",
       "      <td>0</td>\n",
       "      <td>...</td>\n",
       "      <td>0</td>\n",
       "      <td>0</td>\n",
       "      <td>1</td>\n",
       "      <td>0</td>\n",
       "      <td>0</td>\n",
       "      <td>0</td>\n",
       "      <td>0</td>\n",
       "      <td>0</td>\n",
       "      <td>1</td>\n",
       "      <td>0</td>\n",
       "    </tr>\n",
       "    <tr>\n",
       "      <th>...</th>\n",
       "      <td>...</td>\n",
       "      <td>...</td>\n",
       "      <td>...</td>\n",
       "      <td>...</td>\n",
       "      <td>...</td>\n",
       "      <td>...</td>\n",
       "      <td>...</td>\n",
       "      <td>...</td>\n",
       "      <td>...</td>\n",
       "      <td>...</td>\n",
       "      <td>...</td>\n",
       "      <td>...</td>\n",
       "      <td>...</td>\n",
       "      <td>...</td>\n",
       "      <td>...</td>\n",
       "      <td>...</td>\n",
       "      <td>...</td>\n",
       "      <td>...</td>\n",
       "      <td>...</td>\n",
       "      <td>...</td>\n",
       "      <td>...</td>\n",
       "    </tr>\n",
       "    <tr>\n",
       "      <th>34294</th>\n",
       "      <td>1</td>\n",
       "      <td>5000</td>\n",
       "      <td>0</td>\n",
       "      <td>0</td>\n",
       "      <td>0</td>\n",
       "      <td>0</td>\n",
       "      <td>0</td>\n",
       "      <td>0</td>\n",
       "      <td>0</td>\n",
       "      <td>0</td>\n",
       "      <td>...</td>\n",
       "      <td>0</td>\n",
       "      <td>0</td>\n",
       "      <td>0</td>\n",
       "      <td>0</td>\n",
       "      <td>0</td>\n",
       "      <td>0</td>\n",
       "      <td>0</td>\n",
       "      <td>0</td>\n",
       "      <td>1</td>\n",
       "      <td>0</td>\n",
       "    </tr>\n",
       "    <tr>\n",
       "      <th>34295</th>\n",
       "      <td>1</td>\n",
       "      <td>5000</td>\n",
       "      <td>0</td>\n",
       "      <td>0</td>\n",
       "      <td>0</td>\n",
       "      <td>0</td>\n",
       "      <td>0</td>\n",
       "      <td>0</td>\n",
       "      <td>0</td>\n",
       "      <td>0</td>\n",
       "      <td>...</td>\n",
       "      <td>0</td>\n",
       "      <td>0</td>\n",
       "      <td>0</td>\n",
       "      <td>0</td>\n",
       "      <td>0</td>\n",
       "      <td>0</td>\n",
       "      <td>0</td>\n",
       "      <td>0</td>\n",
       "      <td>1</td>\n",
       "      <td>0</td>\n",
       "    </tr>\n",
       "    <tr>\n",
       "      <th>34296</th>\n",
       "      <td>1</td>\n",
       "      <td>5000</td>\n",
       "      <td>0</td>\n",
       "      <td>0</td>\n",
       "      <td>0</td>\n",
       "      <td>0</td>\n",
       "      <td>0</td>\n",
       "      <td>0</td>\n",
       "      <td>0</td>\n",
       "      <td>0</td>\n",
       "      <td>...</td>\n",
       "      <td>0</td>\n",
       "      <td>0</td>\n",
       "      <td>0</td>\n",
       "      <td>0</td>\n",
       "      <td>0</td>\n",
       "      <td>0</td>\n",
       "      <td>0</td>\n",
       "      <td>0</td>\n",
       "      <td>1</td>\n",
       "      <td>0</td>\n",
       "    </tr>\n",
       "    <tr>\n",
       "      <th>34297</th>\n",
       "      <td>1</td>\n",
       "      <td>5000</td>\n",
       "      <td>0</td>\n",
       "      <td>0</td>\n",
       "      <td>0</td>\n",
       "      <td>0</td>\n",
       "      <td>0</td>\n",
       "      <td>0</td>\n",
       "      <td>0</td>\n",
       "      <td>0</td>\n",
       "      <td>...</td>\n",
       "      <td>0</td>\n",
       "      <td>0</td>\n",
       "      <td>0</td>\n",
       "      <td>0</td>\n",
       "      <td>0</td>\n",
       "      <td>0</td>\n",
       "      <td>0</td>\n",
       "      <td>0</td>\n",
       "      <td>1</td>\n",
       "      <td>0</td>\n",
       "    </tr>\n",
       "    <tr>\n",
       "      <th>34298</th>\n",
       "      <td>1</td>\n",
       "      <td>36500179</td>\n",
       "      <td>0</td>\n",
       "      <td>0</td>\n",
       "      <td>0</td>\n",
       "      <td>0</td>\n",
       "      <td>0</td>\n",
       "      <td>0</td>\n",
       "      <td>0</td>\n",
       "      <td>0</td>\n",
       "      <td>...</td>\n",
       "      <td>0</td>\n",
       "      <td>0</td>\n",
       "      <td>0</td>\n",
       "      <td>0</td>\n",
       "      <td>1</td>\n",
       "      <td>0</td>\n",
       "      <td>0</td>\n",
       "      <td>0</td>\n",
       "      <td>1</td>\n",
       "      <td>0</td>\n",
       "    </tr>\n",
       "  </tbody>\n",
       "</table>\n",
       "<p>34299 rows × 116 columns</p>\n",
       "</div>"
      ],
      "text/plain": [
       "       STATUS   ASK_AMT  APPLICATION_TYPE_T10  APPLICATION_TYPE_T12  \\\n",
       "0           1      5000                     1                     0   \n",
       "1           1    108590                     0                     0   \n",
       "2           1      5000                     0                     0   \n",
       "3           1      6692                     0                     0   \n",
       "4           1    142590                     0                     0   \n",
       "...       ...       ...                   ...                   ...   \n",
       "34294       1      5000                     0                     0   \n",
       "34295       1      5000                     0                     0   \n",
       "34296       1      5000                     0                     0   \n",
       "34297       1      5000                     0                     0   \n",
       "34298       1  36500179                     0                     0   \n",
       "\n",
       "       APPLICATION_TYPE_T13  APPLICATION_TYPE_T14  APPLICATION_TYPE_T15  \\\n",
       "0                         0                     0                     0   \n",
       "1                         0                     0                     0   \n",
       "2                         0                     0                     0   \n",
       "3                         0                     0                     0   \n",
       "4                         0                     0                     0   \n",
       "...                     ...                   ...                   ...   \n",
       "34294                     0                     0                     0   \n",
       "34295                     0                     0                     0   \n",
       "34296                     0                     0                     0   \n",
       "34297                     0                     0                     0   \n",
       "34298                     0                     0                     0   \n",
       "\n",
       "       APPLICATION_TYPE_T17  APPLICATION_TYPE_T19  APPLICATION_TYPE_T2  ...  \\\n",
       "0                         0                     0                    0  ...   \n",
       "1                         0                     0                    0  ...   \n",
       "2                         0                     0                    0  ...   \n",
       "3                         0                     0                    0  ...   \n",
       "4                         0                     0                    0  ...   \n",
       "...                     ...                   ...                  ...  ...   \n",
       "34294                     0                     0                    0  ...   \n",
       "34295                     0                     0                    0  ...   \n",
       "34296                     0                     0                    0  ...   \n",
       "34297                     0                     0                    0  ...   \n",
       "34298                     0                     0                    0  ...   \n",
       "\n",
       "       INCOME_AMT_1-9999  INCOME_AMT_10000-24999  INCOME_AMT_100000-499999  \\\n",
       "0                      0                       0                         0   \n",
       "1                      1                       0                         0   \n",
       "2                      0                       0                         0   \n",
       "3                      0                       1                         0   \n",
       "4                      0                       0                         1   \n",
       "...                  ...                     ...                       ...   \n",
       "34294                  0                       0                         0   \n",
       "34295                  0                       0                         0   \n",
       "34296                  0                       0                         0   \n",
       "34297                  0                       0                         0   \n",
       "34298                  0                       0                         0   \n",
       "\n",
       "       INCOME_AMT_10M-50M  INCOME_AMT_1M-5M  INCOME_AMT_25000-99999  \\\n",
       "0                       0                 0                       0   \n",
       "1                       0                 0                       0   \n",
       "2                       0                 0                       0   \n",
       "3                       0                 0                       0   \n",
       "4                       0                 0                       0   \n",
       "...                   ...               ...                     ...   \n",
       "34294                   0                 0                       0   \n",
       "34295                   0                 0                       0   \n",
       "34296                   0                 0                       0   \n",
       "34297                   0                 0                       0   \n",
       "34298                   0                 1                       0   \n",
       "\n",
       "       INCOME_AMT_50M+  INCOME_AMT_5M-10M  SPECIAL_CONSIDERATIONS_N  \\\n",
       "0                    0                  0                         1   \n",
       "1                    0                  0                         1   \n",
       "2                    0                  0                         1   \n",
       "3                    0                  0                         1   \n",
       "4                    0                  0                         1   \n",
       "...                ...                ...                       ...   \n",
       "34294                0                  0                         1   \n",
       "34295                0                  0                         1   \n",
       "34296                0                  0                         1   \n",
       "34297                0                  0                         1   \n",
       "34298                0                  0                         1   \n",
       "\n",
       "       SPECIAL_CONSIDERATIONS_Y  \n",
       "0                             0  \n",
       "1                             0  \n",
       "2                             0  \n",
       "3                             0  \n",
       "4                             0  \n",
       "...                         ...  \n",
       "34294                         0  \n",
       "34295                         0  \n",
       "34296                         0  \n",
       "34297                         0  \n",
       "34298                         0  \n",
       "\n",
       "[34299 rows x 116 columns]"
      ]
     },
     "execution_count": 12,
     "metadata": {},
     "output_type": "execute_result"
    }
   ],
   "source": [
    "# Convert categorical data to numeric with `pd.get_dummies`\n",
    "#  YOUR CODE GOES HERE\n",
    "X = pd.get_dummies(application_dropped, columns = ['APPLICATION_TYPE', 'AFFILIATION', 'CLASSIFICATION', 'USE_CASE', 'ORGANIZATION', 'INCOME_AMT', 'SPECIAL_CONSIDERATIONS'])\n",
    "X"
   ]
  },
  {
   "cell_type": "code",
   "execution_count": 13,
   "metadata": {
    "executionInfo": {
     "elapsed": 139,
     "status": "ok",
     "timestamp": 1645468444404,
     "user": {
      "displayName": "Amanda Jacobson",
      "photoUrl": "https://lh3.googleusercontent.com/a/default-user=s64",
      "userId": "04912117051372836896"
     },
     "user_tz": 300
    },
    "id": "zZjS9B1M7Imx"
   },
   "outputs": [],
   "source": [
    "# Split our preprocessed data into our features and target arrays\n",
    "#  YOUR CODE GOES HERE\n",
    "y = application_columns['IS_SUCCESSFUL'].values\n",
    "X = X.values\n",
    "# Split the preprocessed data into a training and testing dataset\n",
    "#  YOUR CODE GOES HERE\n",
    "X_train, X_test, y_train, y_test = train_test_split(X, y, random_state=1, stratify=y)"
   ]
  },
  {
   "cell_type": "code",
   "execution_count": 14,
   "metadata": {},
   "outputs": [
    {
     "data": {
      "text/plain": [
       "34299"
      ]
     },
     "execution_count": 14,
     "metadata": {},
     "output_type": "execute_result"
    }
   ],
   "source": [
    "len(X)"
   ]
  },
  {
   "cell_type": "code",
   "execution_count": 15,
   "metadata": {},
   "outputs": [
    {
     "data": {
      "text/plain": [
       "34299"
      ]
     },
     "execution_count": 15,
     "metadata": {},
     "output_type": "execute_result"
    }
   ],
   "source": [
    "len(y)"
   ]
  },
  {
   "cell_type": "code",
   "execution_count": 16,
   "metadata": {
    "executionInfo": {
     "elapsed": 165,
     "status": "ok",
     "timestamp": 1645468444568,
     "user": {
      "displayName": "Amanda Jacobson",
      "photoUrl": "https://lh3.googleusercontent.com/a/default-user=s64",
      "userId": "04912117051372836896"
     },
     "user_tz": 300
    },
    "id": "sM9hjA0m7Imx"
   },
   "outputs": [],
   "source": [
    "# Create a StandardScaler instances\n",
    "scaler = StandardScaler()\n",
    "\n",
    "# Fit the StandardScaler\n",
    "X_scaler = scaler.fit(X_train)\n",
    "\n",
    "# Scale the data\n",
    "X_train_scaled = X_scaler.transform(X_train)\n",
    "X_test_scaled = X_scaler.transform(X_test)"
   ]
  },
  {
   "cell_type": "code",
   "execution_count": 17,
   "metadata": {
    "colab": {
     "base_uri": "https://localhost:8080/"
    },
    "executionInfo": {
     "elapsed": 6,
     "status": "ok",
     "timestamp": 1645468444569,
     "user": {
      "displayName": "Amanda Jacobson",
      "photoUrl": "https://lh3.googleusercontent.com/a/default-user=s64",
      "userId": "04912117051372836896"
     },
     "user_tz": 300
    },
    "id": "9kTfSNlTdpSP",
    "outputId": "08d078df-bc99-45a7-b102-d85f8be241c8"
   },
   "outputs": [
    {
     "data": {
      "text/plain": [
       "8575"
      ]
     },
     "execution_count": 17,
     "metadata": {},
     "output_type": "execute_result"
    }
   ],
   "source": [
    "len(X_test_scaled)"
   ]
  },
  {
   "cell_type": "code",
   "execution_count": 18,
   "metadata": {
    "colab": {
     "base_uri": "https://localhost:8080/"
    },
    "executionInfo": {
     "elapsed": 106,
     "status": "ok",
     "timestamp": 1645468444671,
     "user": {
      "displayName": "Amanda Jacobson",
      "photoUrl": "https://lh3.googleusercontent.com/a/default-user=s64",
      "userId": "04912117051372836896"
     },
     "user_tz": 300
    },
    "id": "XbQFxzYDdsKF",
    "outputId": "4e259ed8-420a-418f-8bff-d687e1ecfdc0"
   },
   "outputs": [
    {
     "data": {
      "text/plain": [
       "25724"
      ]
     },
     "execution_count": 18,
     "metadata": {},
     "output_type": "execute_result"
    }
   ],
   "source": [
    "len(y_train)"
   ]
  },
  {
   "cell_type": "code",
   "execution_count": 19,
   "metadata": {},
   "outputs": [
    {
     "data": {
      "text/plain": [
       "25724"
      ]
     },
     "execution_count": 19,
     "metadata": {},
     "output_type": "execute_result"
    }
   ],
   "source": [
    "len(X_train_scaled)"
   ]
  },
  {
   "cell_type": "markdown",
   "metadata": {
    "id": "6JqKQnbr7Imx"
   },
   "source": [
    "## Compile, Train and Evaluate the Model"
   ]
  },
  {
   "cell_type": "code",
   "execution_count": 127,
   "metadata": {
    "colab": {
     "base_uri": "https://localhost:8080/"
    },
    "executionInfo": {
     "elapsed": 136,
     "status": "ok",
     "timestamp": 1645468444806,
     "user": {
      "displayName": "Amanda Jacobson",
      "photoUrl": "https://lh3.googleusercontent.com/a/default-user=s64",
      "userId": "04912117051372836896"
     },
     "user_tz": 300
    },
    "id": "49RclW7u7Imx",
    "outputId": "4063a92a-ee26-4e3b-8ff0-630ccb1f7dd0"
   },
   "outputs": [
    {
     "name": "stdout",
     "output_type": "stream",
     "text": [
      "Model: \"sequential_30\"\n",
      "_________________________________________________________________\n",
      " Layer (type)                Output Shape              Param #   \n",
      "=================================================================\n",
      " dense_155 (Dense)           (None, 61)                7137      \n",
      "                                                                 \n",
      " dense_156 (Dense)           (None, 42)                2604      \n",
      "                                                                 \n",
      " dense_157 (Dense)           (None, 21)                903       \n",
      "                                                                 \n",
      " dense_158 (Dense)           (None, 1)                 22        \n",
      "                                                                 \n",
      "=================================================================\n",
      "Total params: 10,666\n",
      "Trainable params: 10,666\n",
      "Non-trainable params: 0\n",
      "_________________________________________________________________\n"
     ]
    }
   ],
   "source": [
    "from pandas.core.common import not_none\n",
    "# Define the model - deep neural net, i.e., the number of input features and hidden nodes for each layer.\n",
    "#  YOUR CODE GOES HERE\n",
    "input_dimentions = len(X_train_scaled[0])\n",
    "nn = tf.keras.models.Sequential()\n",
    "\n",
    "# First hidden layer\n",
    "#  YOUR CODE GOES HERE\n",
    "nn.add(tf.keras.layers.Dense(units=61, activation=\"relu\", input_dim=input_dimentions))\n",
    "\n",
    "# Second hidden layer\n",
    "#  YOUR CODE GOES HERE\n",
    "nn.add(tf.keras.layers.Dense(units=42, activation=\"relu\"))\n",
    "nn.add(tf.keras.layers.Dense(units=21, activation=\"relu\"))\n",
    "# Output layer\n",
    "#  YOUR CODE GOES HERE\n",
    "nn.add(tf.keras.layers.Dense(units=1, activation=\"sigmoid\"))\n",
    "# Check the structure of the model\n",
    "nn.summary()"
   ]
  },
  {
   "cell_type": "code",
   "execution_count": 128,
   "metadata": {
    "executionInfo": {
     "elapsed": 104,
     "status": "ok",
     "timestamp": 1645468444908,
     "user": {
      "displayName": "Amanda Jacobson",
      "photoUrl": "https://lh3.googleusercontent.com/a/default-user=s64",
      "userId": "04912117051372836896"
     },
     "user_tz": 300
    },
    "id": "Km_k5sjq7Imy"
   },
   "outputs": [],
   "source": [
    "# Compile the model\n",
    "#  YOUR CODE GOES HERE\n",
    "nn.compile(loss=\"binary_crossentropy\", optimizer=\"adam\", metrics=[\"accuracy\"])"
   ]
  },
  {
   "cell_type": "code",
   "execution_count": 129,
   "metadata": {
    "colab": {
     "base_uri": "https://localhost:8080/",
     "height": 397
    },
    "executionInfo": {
     "elapsed": 1109,
     "status": "error",
     "timestamp": 1645468446013,
     "user": {
      "displayName": "Amanda Jacobson",
      "photoUrl": "https://lh3.googleusercontent.com/a/default-user=s64",
      "userId": "04912117051372836896"
     },
     "user_tz": 300
    },
    "id": "ItHxNJBz7Imy",
    "outputId": "2e457be3-a7b0-41a7-b2f3-fbc91b7c7360"
   },
   "outputs": [
    {
     "name": "stdout",
     "output_type": "stream",
     "text": [
      "Epoch 1/100\n",
      "804/804 [==============================] - 1s 690us/step - loss: 0.5731 - accuracy: 0.7198\n",
      "Epoch 2/100\n",
      "804/804 [==============================] - 1s 686us/step - loss: 0.5531 - accuracy: 0.7296\n",
      "Epoch 3/100\n",
      "804/804 [==============================] - 1s 681us/step - loss: 0.5487 - accuracy: 0.7313\n",
      "Epoch 4/100\n",
      "804/804 [==============================] - 1s 685us/step - loss: 0.5465 - accuracy: 0.7318\n",
      "Epoch 5/100\n",
      "804/804 [==============================] - 1s 699us/step - loss: 0.5453 - accuracy: 0.7324\n",
      "Epoch 6/100\n",
      "804/804 [==============================] - 1s 704us/step - loss: 0.5439 - accuracy: 0.7341\n",
      "Epoch 7/100\n",
      "804/804 [==============================] - 1s 731us/step - loss: 0.5431 - accuracy: 0.7352\n",
      "Epoch 8/100\n",
      "804/804 [==============================] - 1s 720us/step - loss: 0.5413 - accuracy: 0.7339\n",
      "Epoch 9/100\n",
      "804/804 [==============================] - 1s 696us/step - loss: 0.5414 - accuracy: 0.7349\n",
      "Epoch 10/100\n",
      "804/804 [==============================] - 1s 677us/step - loss: 0.5405 - accuracy: 0.7348\n",
      "Epoch 11/100\n",
      "804/804 [==============================] - 1s 689us/step - loss: 0.5400 - accuracy: 0.7345\n",
      "Epoch 12/100\n",
      "804/804 [==============================] - 1s 687us/step - loss: 0.5394 - accuracy: 0.7354\n",
      "Epoch 13/100\n",
      "804/804 [==============================] - 1s 685us/step - loss: 0.5391 - accuracy: 0.7364\n",
      "Epoch 14/100\n",
      "804/804 [==============================] - 1s 680us/step - loss: 0.5385 - accuracy: 0.7369\n",
      "Epoch 15/100\n",
      "804/804 [==============================] - 1s 681us/step - loss: 0.5384 - accuracy: 0.7364\n",
      "Epoch 16/100\n",
      "804/804 [==============================] - 1s 717us/step - loss: 0.5375 - accuracy: 0.7372\n",
      "Epoch 17/100\n",
      "804/804 [==============================] - 1s 687us/step - loss: 0.5369 - accuracy: 0.7383\n",
      "Epoch 18/100\n",
      "804/804 [==============================] - 1s 786us/step - loss: 0.5371 - accuracy: 0.7363\n",
      "Epoch 19/100\n",
      "804/804 [==============================] - 1s 707us/step - loss: 0.5368 - accuracy: 0.7375\n",
      "Epoch 20/100\n",
      "804/804 [==============================] - 1s 717us/step - loss: 0.5359 - accuracy: 0.7390\n",
      "Epoch 21/100\n",
      "804/804 [==============================] - 1s 722us/step - loss: 0.5356 - accuracy: 0.7383\n",
      "Epoch 22/100\n",
      "804/804 [==============================] - 1s 705us/step - loss: 0.5351 - accuracy: 0.7386\n",
      "Epoch 23/100\n",
      "804/804 [==============================] - 1s 725us/step - loss: 0.5349 - accuracy: 0.7385\n",
      "Epoch 24/100\n",
      "804/804 [==============================] - 1s 692us/step - loss: 0.5345 - accuracy: 0.7379\n",
      "Epoch 25/100\n",
      "804/804 [==============================] - 1s 695us/step - loss: 0.5342 - accuracy: 0.7395\n",
      "Epoch 26/100\n",
      "804/804 [==============================] - 1s 719us/step - loss: 0.5338 - accuracy: 0.7400\n",
      "Epoch 27/100\n",
      "804/804 [==============================] - 1s 699us/step - loss: 0.5337 - accuracy: 0.7387\n",
      "Epoch 28/100\n",
      "804/804 [==============================] - 1s 680us/step - loss: 0.5338 - accuracy: 0.7383\n",
      "Epoch 29/100\n",
      "804/804 [==============================] - 1s 684us/step - loss: 0.5333 - accuracy: 0.7386\n",
      "Epoch 30/100\n",
      "804/804 [==============================] - 1s 700us/step - loss: 0.5331 - accuracy: 0.7387\n",
      "Epoch 31/100\n",
      "804/804 [==============================] - 1s 710us/step - loss: 0.5327 - accuracy: 0.7406\n",
      "Epoch 32/100\n",
      "804/804 [==============================] - 1s 721us/step - loss: 0.5326 - accuracy: 0.7395\n",
      "Epoch 33/100\n",
      "804/804 [==============================] - 1s 712us/step - loss: 0.5326 - accuracy: 0.7409\n",
      "Epoch 34/100\n",
      "804/804 [==============================] - 1s 730us/step - loss: 0.5324 - accuracy: 0.7396\n",
      "Epoch 35/100\n",
      "804/804 [==============================] - 1s 792us/step - loss: 0.5327 - accuracy: 0.7408\n",
      "Epoch 36/100\n",
      "804/804 [==============================] - 1s 786us/step - loss: 0.5318 - accuracy: 0.7395\n",
      "Epoch 37/100\n",
      "804/804 [==============================] - 1s 862us/step - loss: 0.5317 - accuracy: 0.7404\n",
      "Epoch 38/100\n",
      "804/804 [==============================] - 1s 700us/step - loss: 0.5311 - accuracy: 0.7406\n",
      "Epoch 39/100\n",
      "804/804 [==============================] - 1s 689us/step - loss: 0.5313 - accuracy: 0.7408\n",
      "Epoch 40/100\n",
      "804/804 [==============================] - 1s 737us/step - loss: 0.5312 - accuracy: 0.7414\n",
      "Epoch 41/100\n",
      "804/804 [==============================] - 1s 706us/step - loss: 0.5306 - accuracy: 0.7416\n",
      "Epoch 42/100\n",
      "804/804 [==============================] - 1s 727us/step - loss: 0.5311 - accuracy: 0.7409\n",
      "Epoch 43/100\n",
      "804/804 [==============================] - 1s 687us/step - loss: 0.5303 - accuracy: 0.7417\n",
      "Epoch 44/100\n",
      "804/804 [==============================] - 1s 687us/step - loss: 0.5310 - accuracy: 0.7411\n",
      "Epoch 45/100\n",
      "804/804 [==============================] - 1s 712us/step - loss: 0.5305 - accuracy: 0.7399\n",
      "Epoch 46/100\n",
      "804/804 [==============================] - 1s 700us/step - loss: 0.5303 - accuracy: 0.7402\n",
      "Epoch 47/100\n",
      "804/804 [==============================] - 1s 733us/step - loss: 0.5303 - accuracy: 0.7411\n",
      "Epoch 48/100\n",
      "804/804 [==============================] - 1s 763us/step - loss: 0.5297 - accuracy: 0.7412\n",
      "Epoch 49/100\n",
      "804/804 [==============================] - 1s 849us/step - loss: 0.5300 - accuracy: 0.7419\n",
      "Epoch 50/100\n",
      "804/804 [==============================] - 1s 827us/step - loss: 0.5305 - accuracy: 0.7403\n",
      "Epoch 51/100\n",
      "804/804 [==============================] - 1s 725us/step - loss: 0.5294 - accuracy: 0.7416\n",
      "Epoch 52/100\n",
      "804/804 [==============================] - 1s 702us/step - loss: 0.5292 - accuracy: 0.7420\n",
      "Epoch 53/100\n",
      "804/804 [==============================] - 1s 752us/step - loss: 0.5297 - accuracy: 0.7426\n",
      "Epoch 54/100\n",
      "804/804 [==============================] - 1s 701us/step - loss: 0.5287 - accuracy: 0.7413\n",
      "Epoch 55/100\n",
      "804/804 [==============================] - 1s 724us/step - loss: 0.5291 - accuracy: 0.7417\n",
      "Epoch 56/100\n",
      "804/804 [==============================] - 1s 707us/step - loss: 0.5293 - accuracy: 0.7408\n",
      "Epoch 57/100\n",
      "804/804 [==============================] - 1s 743us/step - loss: 0.5290 - accuracy: 0.7411\n",
      "Epoch 58/100\n",
      "804/804 [==============================] - 1s 709us/step - loss: 0.5288 - accuracy: 0.7433\n",
      "Epoch 59/100\n",
      "804/804 [==============================] - 1s 681us/step - loss: 0.5291 - accuracy: 0.7418\n",
      "Epoch 60/100\n",
      "804/804 [==============================] - 1s 694us/step - loss: 0.5282 - accuracy: 0.7424\n",
      "Epoch 61/100\n",
      "804/804 [==============================] - 1s 765us/step - loss: 0.5292 - accuracy: 0.7419\n",
      "Epoch 62/100\n",
      "804/804 [==============================] - 1s 739us/step - loss: 0.5278 - accuracy: 0.7416\n",
      "Epoch 63/100\n",
      "804/804 [==============================] - 1s 731us/step - loss: 0.5285 - accuracy: 0.7409\n",
      "Epoch 64/100\n",
      "804/804 [==============================] - 1s 800us/step - loss: 0.5282 - accuracy: 0.7415\n",
      "Epoch 65/100\n",
      "804/804 [==============================] - 1s 696us/step - loss: 0.5281 - accuracy: 0.7423\n",
      "Epoch 66/100\n",
      "804/804 [==============================] - 1s 802us/step - loss: 0.5279 - accuracy: 0.7427\n",
      "Epoch 67/100\n",
      "804/804 [==============================] - 1s 808us/step - loss: 0.5277 - accuracy: 0.7425\n",
      "Epoch 68/100\n",
      "804/804 [==============================] - 1s 736us/step - loss: 0.5282 - accuracy: 0.7416\n",
      "Epoch 69/100\n",
      "804/804 [==============================] - 1s 731us/step - loss: 0.5278 - accuracy: 0.7419\n",
      "Epoch 70/100\n",
      "804/804 [==============================] - 1s 753us/step - loss: 0.5276 - accuracy: 0.7424\n",
      "Epoch 71/100\n",
      "804/804 [==============================] - 1s 860us/step - loss: 0.5275 - accuracy: 0.7418\n",
      "Epoch 72/100\n",
      "804/804 [==============================] - 1s 699us/step - loss: 0.5277 - accuracy: 0.7427\n",
      "Epoch 73/100\n",
      "804/804 [==============================] - 1s 691us/step - loss: 0.5276 - accuracy: 0.7431\n",
      "Epoch 74/100\n",
      "804/804 [==============================] - 1s 685us/step - loss: 0.5273 - accuracy: 0.7423\n",
      "Epoch 75/100\n",
      "804/804 [==============================] - 1s 689us/step - loss: 0.5275 - accuracy: 0.7417\n",
      "Epoch 76/100\n",
      "804/804 [==============================] - 1s 730us/step - loss: 0.5279 - accuracy: 0.7415\n",
      "Epoch 77/100\n",
      "804/804 [==============================] - 1s 687us/step - loss: 0.5271 - accuracy: 0.7422\n",
      "Epoch 78/100\n",
      "804/804 [==============================] - 1s 716us/step - loss: 0.5273 - accuracy: 0.7427\n",
      "Epoch 79/100\n"
     ]
    },
    {
     "name": "stdout",
     "output_type": "stream",
     "text": [
      "804/804 [==============================] - 1s 856us/step - loss: 0.5270 - accuracy: 0.7426\n",
      "Epoch 80/100\n",
      "804/804 [==============================] - 1s 798us/step - loss: 0.5266 - accuracy: 0.7430\n",
      "Epoch 81/100\n",
      "804/804 [==============================] - 1s 745us/step - loss: 0.5268 - accuracy: 0.7419\n",
      "Epoch 82/100\n",
      "804/804 [==============================] - 1s 677us/step - loss: 0.5267 - accuracy: 0.7429\n",
      "Epoch 83/100\n",
      "804/804 [==============================] - 1s 679us/step - loss: 0.5269 - accuracy: 0.7420\n",
      "Epoch 84/100\n",
      "804/804 [==============================] - 1s 681us/step - loss: 0.5266 - accuracy: 0.7429\n",
      "Epoch 85/100\n",
      "804/804 [==============================] - 1s 682us/step - loss: 0.5273 - accuracy: 0.7423\n",
      "Epoch 86/100\n",
      "804/804 [==============================] - 1s 679us/step - loss: 0.5270 - accuracy: 0.7425\n",
      "Epoch 87/100\n",
      "804/804 [==============================] - 1s 677us/step - loss: 0.5264 - accuracy: 0.7428\n",
      "Epoch 88/100\n",
      "804/804 [==============================] - 1s 748us/step - loss: 0.5264 - accuracy: 0.7426\n",
      "Epoch 89/100\n",
      "804/804 [==============================] - 1s 681us/step - loss: 0.5261 - accuracy: 0.7429\n",
      "Epoch 90/100\n",
      "804/804 [==============================] - 1s 674us/step - loss: 0.5266 - accuracy: 0.7430\n",
      "Epoch 91/100\n",
      "804/804 [==============================] - 1s 679us/step - loss: 0.5268 - accuracy: 0.7421\n",
      "Epoch 92/100\n",
      "804/804 [==============================] - 1s 684us/step - loss: 0.5272 - accuracy: 0.7423\n",
      "Epoch 93/100\n",
      "804/804 [==============================] - 1s 821us/step - loss: 0.5261 - accuracy: 0.7434\n",
      "Epoch 94/100\n",
      "804/804 [==============================] - 1s 880us/step - loss: 0.5263 - accuracy: 0.7427\n",
      "Epoch 95/100\n",
      "804/804 [==============================] - 1s 853us/step - loss: 0.5261 - accuracy: 0.7420\n",
      "Epoch 96/100\n",
      "804/804 [==============================] - 1s 803us/step - loss: 0.5261 - accuracy: 0.7429\n",
      "Epoch 97/100\n",
      "804/804 [==============================] - 1s 827us/step - loss: 0.5259 - accuracy: 0.7430\n",
      "Epoch 98/100\n",
      "804/804 [==============================] - 1s 783us/step - loss: 0.5256 - accuracy: 0.7436\n",
      "Epoch 99/100\n",
      "804/804 [==============================] - 1s 786us/step - loss: 0.5260 - accuracy: 0.7439\n",
      "Epoch 100/100\n",
      "804/804 [==============================] - 1s 852us/step - loss: 0.5256 - accuracy: 0.7434\n"
     ]
    }
   ],
   "source": [
    "# Train the model\n",
    "#  YOUR CODE GOES HERE\n",
    "fit_model = nn.fit(X_train_scaled, y_train, epochs=100)"
   ]
  },
  {
   "cell_type": "code",
   "execution_count": 130,
   "metadata": {
    "executionInfo": {
     "elapsed": 134,
     "status": "aborted",
     "timestamp": 1645468445871,
     "user": {
      "displayName": "Amanda Jacobson",
      "photoUrl": "https://lh3.googleusercontent.com/a/default-user=s64",
      "userId": "04912117051372836896"
     },
     "user_tz": 300
    },
    "id": "MKA0kO717Imy"
   },
   "outputs": [
    {
     "name": "stdout",
     "output_type": "stream",
     "text": [
      "268/268 - 0s - loss: 0.5885 - accuracy: 0.7314 - 214ms/epoch - 798us/step\n",
      "Loss: 0.5884528756141663, Accuracy: 0.7314285635948181\n"
     ]
    }
   ],
   "source": [
    "# Evaluate the model using the test data\n",
    "model_loss, model_accuracy = nn.evaluate(X_test_scaled,y_test,verbose=2)\n",
    "print(f\"Loss: {model_loss}, Accuracy: {model_accuracy}\")"
   ]
  },
  {
   "cell_type": "code",
   "execution_count": 131,
   "metadata": {
    "executionInfo": {
     "elapsed": 135,
     "status": "aborted",
     "timestamp": 1645468445872,
     "user": {
      "displayName": "Amanda Jacobson",
      "photoUrl": "https://lh3.googleusercontent.com/a/default-user=s64",
      "userId": "04912117051372836896"
     },
     "user_tz": 300
    },
    "id": "kJwo7XTX7Imy"
   },
   "outputs": [],
   "source": [
    "# Export our model to HDF5 file\n",
    "#  YOUR CODE GOES HERE\n",
    "nn.save('AlphabetSoupCharity_Optimization.h5')"
   ]
  },
  {
   "cell_type": "code",
   "execution_count": null,
   "metadata": {},
   "outputs": [],
   "source": []
  }
 ],
 "metadata": {
  "colab": {
   "collapsed_sections": [],
   "name": "Starter_Code.ipynb",
   "provenance": []
  },
  "kernelspec": {
   "display_name": "Python [conda env:Pythondata] *",
   "language": "python",
   "name": "conda-env-Pythondata-py"
  },
  "language_info": {
   "codemirror_mode": {
    "name": "ipython",
    "version": 3
   },
   "file_extension": ".py",
   "mimetype": "text/x-python",
   "name": "python",
   "nbconvert_exporter": "python",
   "pygments_lexer": "ipython3",
   "version": "3.8.11"
  }
 },
 "nbformat": 4,
 "nbformat_minor": 1
}
